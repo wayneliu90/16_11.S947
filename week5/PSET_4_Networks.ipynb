{
 "cells": [
  {
   "cell_type": "markdown",
   "metadata": {},
   "source": [
    "# Problem Set 4: Networks"
   ]
  },
  {
   "cell_type": "markdown",
   "metadata": {},
   "source": [
    "In this problem set we are going to be working with network-like data. We will be using a smaller dataset obtained from foursquare's API in Riyadh. The dataset was constructed by scrapping an API endpoint that given a venue, it lists the next top 5 venues where users usually check-in afterwards. All the data is aggregated, and the specifics of each trip, or check-in sequence are not available. However, it can provide a good overview of some general dynamics around the city. \n",
    "\n",
    "In the dataset, every node of venue, is connected to at least other node or venue. More popular nodes will be connected to more nodes, or will have more edges attached to them. Additionally, by constructing a network with the data, we can analyze some other interesting properties that might give us some insights of the urban dynamics of the region.\n",
    "\n",
    "1. Constructing a network with the dataset.\n",
    "2. Assigning spatial properties to the network.\n",
    "3. Analyzing some basic network properties.\n",
    "4. Constructing exploratory visualizations that help us make sense out of our analysis and dataset."
   ]
  },
  {
   "cell_type": "code",
   "execution_count": 1,
   "metadata": {
    "collapsed": true
   },
   "outputs": [],
   "source": [
    "# Import some libraries\n",
    "import networkx as nx\n",
    "import matplotlib.pyplot as plt\n",
    "import numpy as np\n",
    "import pandas as pd\n",
    "import seaborn as sns\n",
    "\n",
    "# This allows plots to appear on the IPython notebook.\n",
    "%matplotlib inline "
   ]
  },
  {
   "cell_type": "markdown",
   "metadata": {},
   "source": [
    "The data is contained in two different `CSV` files: `FoursqureLinksNetwork.csv` and `FoursqureCheckinNodes.csv`. First, we will import the CSV containing all the edges among **Foursquare** venues, and construct a `networkx` network. In this case, the node index or name will be the venue ID."
   ]
  },
  {
   "cell_type": "code",
   "execution_count": 3,
   "metadata": {
    "collapsed": false
   },
   "outputs": [
    {
     "data": {
      "text/html": [
       "<div>\n",
       "<table border=\"1\" class=\"dataframe\">\n",
       "  <thead>\n",
       "    <tr style=\"text-align: right;\">\n",
       "      <th></th>\n",
       "      <th>FROM-ID</th>\n",
       "      <th>TO-ID</th>\n",
       "      <th>DISTANCE</th>\n",
       "    </tr>\n",
       "  </thead>\n",
       "  <tbody>\n",
       "    <tr>\n",
       "      <th>0</th>\n",
       "      <td>4f3381cae4b0befff0254890</td>\n",
       "      <td>4d90bb7ffa9437048ca338c6</td>\n",
       "      <td>0.050111</td>\n",
       "    </tr>\n",
       "    <tr>\n",
       "      <th>1</th>\n",
       "      <td>4f3381cae4b0befff0254890</td>\n",
       "      <td>50e4021b582f294b85631919</td>\n",
       "      <td>0.083781</td>\n",
       "    </tr>\n",
       "    <tr>\n",
       "      <th>2</th>\n",
       "      <td>4f3381cae4b0befff0254890</td>\n",
       "      <td>4e341a00e4cdf7a42cad9421</td>\n",
       "      <td>0.046179</td>\n",
       "    </tr>\n",
       "    <tr>\n",
       "      <th>3</th>\n",
       "      <td>4f3381cae4b0befff0254890</td>\n",
       "      <td>50433012e4b05698baa75339</td>\n",
       "      <td>0.057012</td>\n",
       "    </tr>\n",
       "    <tr>\n",
       "      <th>4</th>\n",
       "      <td>4f3381cae4b0befff0254890</td>\n",
       "      <td>4f8f03f5e4b09b4d92853b2c</td>\n",
       "      <td>0.029747</td>\n",
       "    </tr>\n",
       "  </tbody>\n",
       "</table>\n",
       "</div>"
      ],
      "text/plain": [
       "                    FROM-ID                     TO-ID  DISTANCE\n",
       "0  4f3381cae4b0befff0254890  4d90bb7ffa9437048ca338c6  0.050111\n",
       "1  4f3381cae4b0befff0254890  50e4021b582f294b85631919  0.083781\n",
       "2  4f3381cae4b0befff0254890  4e341a00e4cdf7a42cad9421  0.046179\n",
       "3  4f3381cae4b0befff0254890  50433012e4b05698baa75339  0.057012\n",
       "4  4f3381cae4b0befff0254890  4f8f03f5e4b09b4d92853b2c  0.029747"
      ]
     },
     "execution_count": 3,
     "metadata": {},
     "output_type": "execute_result"
    }
   ],
   "source": [
    "# Use pandas to import the csv\n",
    "df_edges = pd.read_csv('data/FoursqureLinksNetwork.csv', sep=\",\")\n",
    "df_edges.head()"
   ]
  },
  {
   "cell_type": "markdown",
   "metadata": {},
   "source": [
    "Next, we will import the CSV containing all the nodes representing **Foursquare** venues."
   ]
  },
  {
   "cell_type": "code",
   "execution_count": 4,
   "metadata": {
    "collapsed": false
   },
   "outputs": [
    {
     "data": {
      "text/html": [
       "<div>\n",
       "<table border=\"1\" class=\"dataframe\">\n",
       "  <thead>\n",
       "    <tr style=\"text-align: right;\">\n",
       "      <th></th>\n",
       "      <th>ID</th>\n",
       "      <th>NAME</th>\n",
       "      <th>CATEGORY</th>\n",
       "      <th>CHECK-IN</th>\n",
       "      <th>LAT</th>\n",
       "      <th>LONG</th>\n",
       "    </tr>\n",
       "  </thead>\n",
       "  <tbody>\n",
       "    <tr>\n",
       "      <th>0</th>\n",
       "      <td>558e5ce5498e164a5cb27afc</td>\n",
       "      <td>�����_�� �_�������� ���_���� - King Khalid Air...</td>\n",
       "      <td>Airport Terminal</td>\n",
       "      <td>21</td>\n",
       "      <td>24.760483</td>\n",
       "      <td>46.705338</td>\n",
       "    </tr>\n",
       "    <tr>\n",
       "      <th>1</th>\n",
       "      <td>4ccd23f1c0378cfa93b68b48</td>\n",
       "      <td>Princess Nora University</td>\n",
       "      <td>College Academic Building</td>\n",
       "      <td>532</td>\n",
       "      <td>24.774344</td>\n",
       "      <td>46.728845</td>\n",
       "    </tr>\n",
       "    <tr>\n",
       "      <th>2</th>\n",
       "      <td>4da5ec8a4b2280544b678da0</td>\n",
       "      <td>Lulu Hypermarket | �������� ���_�_�������_������</td>\n",
       "      <td>Department Store</td>\n",
       "      <td>6453</td>\n",
       "      <td>24.663989</td>\n",
       "      <td>46.703757</td>\n",
       "    </tr>\n",
       "    <tr>\n",
       "      <th>3</th>\n",
       "      <td>50295233e4b0db2acbb75c69</td>\n",
       "      <td>Papparoti | ���_���_�����ș_</td>\n",
       "      <td>Coffee Shop</td>\n",
       "      <td>2168</td>\n",
       "      <td>24.693468</td>\n",
       "      <td>46.669636</td>\n",
       "    </tr>\n",
       "    <tr>\n",
       "      <th>4</th>\n",
       "      <td>4da5ec8a4b2280544b678da0</td>\n",
       "      <td>Avenue Mall</td>\n",
       "      <td>Department Store</td>\n",
       "      <td>1474</td>\n",
       "      <td>24.663569</td>\n",
       "      <td>46.703937</td>\n",
       "    </tr>\n",
       "  </tbody>\n",
       "</table>\n",
       "</div>"
      ],
      "text/plain": [
       "                         ID  \\\n",
       "0  558e5ce5498e164a5cb27afc   \n",
       "1  4ccd23f1c0378cfa93b68b48   \n",
       "2  4da5ec8a4b2280544b678da0   \n",
       "3  50295233e4b0db2acbb75c69   \n",
       "4  4da5ec8a4b2280544b678da0   \n",
       "\n",
       "                                                NAME  \\\n",
       "0  �����_�� �_�������� ���_���� - King Khalid Air...   \n",
       "1                           Princess Nora University   \n",
       "2   Lulu Hypermarket | �������� ���_�_�������_������   \n",
       "3                        Papparoti | ���_���_�����ș_   \n",
       "4                                        Avenue Mall   \n",
       "\n",
       "                    CATEGORY  CHECK-IN        LAT       LONG  \n",
       "0           Airport Terminal        21  24.760483  46.705338  \n",
       "1  College Academic Building       532  24.774344  46.728845  \n",
       "2           Department Store      6453  24.663989  46.703757  \n",
       "3                Coffee Shop      2168  24.693468  46.669636  \n",
       "4           Department Store      1474  24.663569  46.703937  "
      ]
     },
     "execution_count": 4,
     "metadata": {},
     "output_type": "execute_result"
    }
   ],
   "source": [
    "df_nodes = pd.read_csv('data/FoursqureCheckinNodes.csv', sep=\",\")\n",
    "df_nodes.head()"
   ]
  },
  {
   "cell_type": "markdown",
   "metadata": {},
   "source": [
    "## Part 1\n",
    "\n",
    "Now, using your recently acquired **Pandas** knowledge, use **Pandas'** `.join` or `.merge` functions, to match the index of the origin id with its latitude and longitude (we want to add new columns with the lat and lon values for a given node). Create a new dataframe with the df_edge (including from-id, to-id, and distance columns) and add a **lat_from and lon_from** column to the datafram containing this information. Do the same with the destination id, but name the respective columns **lat_to and lon_to**.\n",
    "\n",
    "**Deliverable**\n",
    "* A pandas Dataframe with 4 new columns: the columns should correspond to the lat and lon of the **FROM-ID** and **TO-ID** columns."
   ]
  },
  {
   "cell_type": "code",
   "execution_count": 5,
   "metadata": {
    "collapsed": true
   },
   "outputs": [],
   "source": [
    "# Your Code here\n"
   ]
  },
  {
   "cell_type": "markdown",
   "metadata": {},
   "source": [
    "## Part 2\n",
    "\n",
    "Now, that we have an appropriate data structure, we will be creating a `networkx` network."
   ]
  },
  {
   "cell_type": "code",
   "execution_count": 14,
   "metadata": {
    "collapsed": true
   },
   "outputs": [],
   "source": [
    "# Let's define an empty undirected graph.\n",
    "RG = nx.Graph()"
   ]
  },
  {
   "cell_type": "markdown",
   "metadata": {
    "collapsed": true
   },
   "source": [
    "Now let's use the `df_nodes` to add nodes to our newly created graph. The node index or name will be the **ID** column of the dataframe. Make sure to add the rest of the dataframe columns to the node as properties.\n",
    "\n",
    "`Hint: You can loop through all the rows, and use each one of their values to add a node and define specific properties. The property name should be the same as the column name.`\n",
    "\n",
    "**Deliverable**\n",
    "* You should populate the **RG** network with all the nodes part of the `df_nodes` dataframe. All the nodes should also have the additional columns as a node property. To show that you correctly populated the network, print out the **node names**, and the **number of nodes**."
   ]
  },
  {
   "cell_type": "code",
   "execution_count": 16,
   "metadata": {
    "collapsed": true
   },
   "outputs": [],
   "source": [
    "# Add nodes to the graph here\n"
   ]
  },
  {
   "cell_type": "markdown",
   "metadata": {},
   "source": [
    "Now let's use the new joined dataframe you just made in part 1, to add edges to our graph. The edge index is the **Row Number** of the dataframe. Make sure to add the rest of the dataframe columns to the edge as properties (such as lat_from, lon_from, lat_to, and lon_to).\n",
    "\n",
    "`Hint: You can loop through all the rows of the dataframe, and use each one of edge to and from ID values to add an edge and define specific properties. The property name should be the same as the column name.`\n",
    "\n",
    "```Python \n",
    "# To add properties to a node you can simply do:\n",
    "G.add_node(node_id, node_property_n=\"this node's property N\")\n",
    "```\n",
    "\n",
    "**Deliverable**\n",
    "* You should populate the **RG** network with all the edges part of the `df_edges` dataframe. All the edges should also have the additional columns as an edge property. To show that you correctly populated the network, print out the **edges**, and the **number of edges**."
   ]
  },
  {
   "cell_type": "code",
   "execution_count": 17,
   "metadata": {
    "collapsed": true
   },
   "outputs": [],
   "source": [
    "# Add edges to the graph here\n"
   ]
  },
  {
   "cell_type": "markdown",
   "metadata": {
    "collapsed": true
   },
   "source": [
    "Now that we have a populated network, let's plot it! We will use networkx's `draw()` functions.\n",
    "\n",
    "**Deliverable**\n",
    "* You should create a plot of the network. The position of every node (`pos`) should be defined by the lat and lon of the given node. The **color** and **size** of the nodes should be dependent on one of the node properties."
   ]
  },
  {
   "cell_type": "code",
   "execution_count": 6,
   "metadata": {
    "collapsed": true
   },
   "outputs": [],
   "source": [
    "# Draw the network here\n"
   ]
  },
  {
   "cell_type": "markdown",
   "metadata": {},
   "source": [
    "## Part 3 - BONUS\n",
    "Now that we have the network, it is useful to calculate some of it's properties to gain insights of the region.\n",
    "\n",
    "First, we will obtain the node degrees, and create a histogram that shows the distribution of the degrees across the network nodes'.\n",
    "\n",
    "**Deliverable**\n",
    "* You should create a histogram showing the degree distribution across the network. The **x-axis** should have the different degrees, and the **y-axis** should have the number of observations."
   ]
  },
  {
   "cell_type": "code",
   "execution_count": 7,
   "metadata": {
    "collapsed": true
   },
   "outputs": [],
   "source": [
    "# Create your histogram here\n"
   ]
  },
  {
   "cell_type": "markdown",
   "metadata": {},
   "source": [
    "Finally, let's look at another useful network property: **centrality**. Centrality indicators help identify the most important vertices within a graph. With centrality algorithms, it is possible to identify key infrastructure nodes in urban networks.\n",
    "\n",
    "We will be using 2 centrality measures: degree centrality and betweeness centrality. **Betweenness** is a centrality measure of a vertex within a graph. It quantifies the number of times a node acts as a bridge along the shortest path between two other nodes. Conceptually, edges that are more important to the functioning of the network will have a higher betweenness centrality. For `networkx`, the betweenness centrality of a node v is the sum of the fraction of all-pairs shortest paths that pass through v.\n",
    "\n",
    "Historically first and conceptually simplest centrality measure is **degree centrality**, which is defined as the number of links incident upon a node (the number of ties that a node has). For `networkx`,  the degree centrality for a node v is the fraction of nodes it is connected to.\n",
    "\n",
    "Using networkx's built-in function, calculate the **degree** and **betweenness** centrality of the network, and create 2 plots of the network, where either the color or the size of the node is dependent on both **centrality** measure. \n",
    "\n",
    "**Deliverable**\n",
    "* You should create a plot of the network. The position of every node (`pos`) should be defined by the lat and lon of the given node. The **color** or **size** of the nodes should be dependent on the centrality measure corresponding to the plot (1 plot for degree, and one for betweenness). The other property not represented by the centrality should depend on another property of the network."
   ]
  },
  {
   "cell_type": "code",
   "execution_count": 8,
   "metadata": {
    "collapsed": true
   },
   "outputs": [],
   "source": [
    "# Your code here\n"
   ]
  },
  {
   "cell_type": "code",
   "execution_count": null,
   "metadata": {
    "collapsed": true
   },
   "outputs": [],
   "source": []
  }
 ],
 "metadata": {
  "kernelspec": {
   "display_name": "Python 2",
   "language": "python",
   "name": "python2"
  },
  "language_info": {
   "codemirror_mode": {
    "name": "ipython",
    "version": 2
   },
   "file_extension": ".py",
   "mimetype": "text/x-python",
   "name": "python",
   "nbconvert_exporter": "python",
   "pygments_lexer": "ipython2",
   "version": "2.7.10"
  }
 },
 "nbformat": 4,
 "nbformat_minor": 0
}
